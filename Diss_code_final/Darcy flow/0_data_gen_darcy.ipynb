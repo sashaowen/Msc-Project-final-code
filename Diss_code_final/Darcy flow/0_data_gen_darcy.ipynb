{
 "cells": [
  {
   "cell_type": "code",
   "execution_count": 1,
   "id": "7e141669-9c72-4a4f-b9fc-2ad59accfbaa",
   "metadata": {},
   "outputs": [],
   "source": [
    "# Generate data for the Darcy flow problem\n",
    "# Input: a - the permeability\n",
    "# output: u - the flow through the permeability\n",
    "# data generated:\n",
    "# 5 datasets of 200 training pairs, with a resolution of 256\n",
    "# 1 dataset of 200 testing pairs, with a resolution of 256\n"
   ]
  },
  {
   "cell_type": "code",
   "execution_count": null,
   "id": "4a39d9b4-d539-4964-9c18-7e1a37be94a2",
   "metadata": {},
   "outputs": [],
   "source": [
    "pip install torch"
   ]
  },
  {
   "cell_type": "code",
   "execution_count": null,
   "id": "fadf385d-8182-4be7-86e4-3bddb357da11",
   "metadata": {},
   "outputs": [],
   "source": [
    "# tensorflow for Gaussian Random Fields function:"
   ]
  },
  {
   "cell_type": "code",
   "execution_count": null,
   "id": "99d3b324-cb4e-47e6-a292-c5afadf0b15d",
   "metadata": {},
   "outputs": [],
   "source": [
    "pip install tensorflow"
   ]
  },
  {
   "cell_type": "code",
   "execution_count": null,
   "id": "c5a773a8-0fee-4954-b868-02e410a5aad0",
   "metadata": {},
   "outputs": [],
   "source": [
    "pip install --user git+https://github.com/devitocodes/devito.git"
   ]
  },
  {
   "cell_type": "code",
   "execution_count": 1,
   "id": "d6ce6e19-d050-45a7-8bb2-8eba0076713d",
   "metadata": {},
   "outputs": [
    {
     "name": "stderr",
     "output_type": "stream",
     "text": [
      "2022-08-29 17:01:31.348429: W tensorflow/stream_executor/platform/default/dso_loader.cc:64] Could not load dynamic library 'libcudart.so.11.0'; dlerror: libcudart.so.11.0: cannot open shared object file: No such file or directory\n",
      "2022-08-29 17:01:31.348497: I tensorflow/stream_executor/cuda/cudart_stub.cc:29] Ignore above cudart dlerror if you do not have a GPU set up on your machine.\n"
     ]
    }
   ],
   "source": [
    "import torch\n",
    "import math\n",
    "from devito import div, grad, Eq, Operator, TimeFunction, Function, solve, Grid, configuration\n",
    "import numpy as np\n",
    "from random_fields import GaussianRF\n",
    "from timeit import default_timer\n",
    "import scipy.io"
   ]
  },
  {
   "cell_type": "code",
   "execution_count": 2,
   "id": "6908370e-bcaf-4a12-b8e3-aca967edf8aa",
   "metadata": {},
   "outputs": [],
   "source": [
    "np.random.seed(42)"
   ]
  },
  {
   "cell_type": "code",
   "execution_count": 3,
   "id": "d3ca6e64-3b6c-48c7-a8a5-839b674970dc",
   "metadata": {},
   "outputs": [],
   "source": [
    "import os"
   ]
  },
  {
   "cell_type": "code",
   "execution_count": 4,
   "id": "7cc966ac-2728-4b93-92c3-68db9091bf4d",
   "metadata": {},
   "outputs": [],
   "source": [
    "os.environ['DEVITO_LANGUAGE'] = 'openmp'\n",
    "\n",
    "os.environ['OMP_SCHEDULE'] = 'STATIC'\n",
    "\n",
    "os.environ['OMP_PROC_BIND'] = 'true'\n",
    "\n",
    "os.environ['OMP_PLACES'] = 'cores'"
   ]
  },
  {
   "cell_type": "code",
   "execution_count": 5,
   "id": "a44a85ce-7c81-4a4c-9e01-c60d7223f8ab",
   "metadata": {},
   "outputs": [],
   "source": [
    "'''\n",
    "function to generate 'u' from 'a' using Devito\n",
    "parameters \n",
    "-----------------\n",
    "perm: tensor of size (1, s, s)\n",
    "    this is \"a\"\n",
    "f: tensor of size (s, s)\n",
    "    the forcing function f(x) = 1\n",
    "s: int\n",
    "    the resolution\n",
    " '''\n",
    "def darcy_flow_2d(perm, f, s):\n",
    "    \n",
    "    # a(x) is the coefficients\n",
    "    # f is the forcing function\n",
    "    # give the a and f1 functions the same data as inputs perm and f\n",
    "    for i in range(s):\n",
    "        f1.data[i] = f[i]\n",
    "        a.data[i] = perm[i]\n",
    "    \n",
    "    # call operator for the 15,000th psuedo-timestep\n",
    "    op(time= 15000)\n",
    "   \n",
    "    return torch. from_numpy(u.data[0])"
   ]
  },
  {
   "cell_type": "code",
   "execution_count": null,
   "id": "25b47db5-56aa-45da-a96b-bbc3a81630d2",
   "metadata": {
    "tags": []
   },
   "outputs": [],
   "source": [
    "# Silence the runtime performance logging\n",
    "configuration['log-level'] = 'ERROR'\n",
    "\n",
    "# this is used to generate data for training the FNO and initial test data used as a ground truth\n",
    "\n",
    "# number of grid points on [0,1]^2 \n",
    "s = 256\n",
    "\n",
    "# Number of solutions to generate\n",
    "N = 200\n",
    "\n",
    "numberofbatches = [1,5]\n",
    "for num in numberofbatches:\n",
    "# number of batches to generate (=1 for testing data and =5 for training data)\n",
    "    for b in range(num):\n",
    "\n",
    "        # Set up 2d GRF with covariance parameters to generate random coefficients\n",
    "        norm_a = GaussianRF(2, s, alpha=2, tau=3)\n",
    "\n",
    "        # Forcing function, f(x) = 1 \n",
    "        f = np.ones((s, s))\n",
    "\n",
    "        # create s x s grid with spacing 1\n",
    "        grid = Grid(shape=(s, s), extent=(1.0,1.0))\n",
    "\n",
    "        # create function on grid\n",
    "        # space order of 2 to enable 2nd derivative\n",
    "        # TimeFunction for u can be used despite the lack of a time-dependence. This is done for psuedotime\n",
    "        u = TimeFunction(name='u', grid=grid, space_order=2)\n",
    "        a = Function(name='a', grid=grid, space_order=2)\n",
    "        f1 = Function(name='f1', grid=grid, space_order=2)\n",
    "\n",
    "        # define 2D Darcy flow equation\n",
    "        equation_u = Eq(-a*u.laplace,f1)\n",
    "\n",
    "        # Let SymPy solve for the central stencil point\n",
    "        stencil = solve(equation_u, u)\n",
    "\n",
    "        # Let our stencil populate the buffer `u.forward`\n",
    "        update = Eq(u.forward, stencil)\n",
    "\n",
    "        # Boundary Conds\n",
    "        x, y = grid.dimensions\n",
    "        t = grid.stepping_dim\n",
    "        nx = s\n",
    "        ny = s\n",
    "        bc = [Eq(u[t+1, 0, y],u[t+1, 1,y])]  # du/dx = 0 for x=0.\n",
    "        bc += [Eq(u[t+1,nx-1, y],u[t+1,nx-2, y])]  # du/dx = 0 for x=1.\n",
    "        bc += [Eq(u[t+1, x, 0],u[t+1,x ,1])]  # du/dx = 0 at y=0\n",
    "        bc += [Eq(u[t+1, x, ny-1],u[t+1, x, ny-2])]  # du/dx=0 for y=1\n",
    "        # u=0 for all sides\n",
    "        bc = [Eq(u[t+1, x, 0], 0.)]\n",
    "        bc += [Eq(u[t+1, x, ny-1], 0.)]\n",
    "        bc += [Eq(u[t+1, 0, y], 0.)]\n",
    "        bc += [Eq(u[t+1, nx-1, y], 0.)]\n",
    "\n",
    "        op = Operator([update] + bc)\n",
    "\n",
    "        # all the inputs\n",
    "        coeff = torch.zeros(N, s, s)\n",
    "        #all the solutions\n",
    "        sol = torch.zeros(N, s, s)\n",
    "\n",
    "        c = 0\n",
    "        t0 = default_timer()\n",
    "\n",
    "        for j in range(N):\n",
    "\n",
    "            #Sample random fields\n",
    "            # create a threshold, either 4 or 12 (common for permeability)\n",
    "            thresh_a = norm_a.sample(1)\n",
    "            thresh_a[thresh_a>=0] = 12\n",
    "            thresh_a[thresh_a<0] = 4\n",
    "\n",
    "            w1 = thresh_a[0]\n",
    "\n",
    "            #Solve df either for w0 (exp perm) or w1 (thresh perm)\n",
    "            output = darcy_flow_2d(w1, f, s)\n",
    "\n",
    "\n",
    "            coeff[c:(c+1),...] = w1\n",
    "            sol[c:(c+1),...] = output\n",
    "\n",
    "            c += 1\n",
    "        \n",
    "        if num == 5:\n",
    "            scipy.io.savemat('df_train_{}_{}.mat'.format(s,b), mdict={'coeff': coeff.cpu().numpy(), 'sol': sol.cpu().numpy()})\n",
    "        else:\n",
    "            scipy.io.savemat('df_test_{}.mat'.format(s), mdict={'coeff': coeff.cpu().numpy(), 'sol': sol.cpu().numpy()})\n",
    "    \n",
    "    t1 = default_timer()\n",
    "    print(\"number of samples:\", num*200, \"Time taken:\", t1-t0)\n",
    "       \n"
   ]
  },
  {
   "cell_type": "code",
   "execution_count": null,
   "id": "4db6d530-c468-4243-a7b3-1303ad924fb4",
   "metadata": {},
   "outputs": [],
   "source": []
  }
 ],
 "metadata": {
  "kernelspec": {
   "display_name": "Python 3 (ipykernel)",
   "language": "python",
   "name": "python3"
  },
  "language_info": {
   "codemirror_mode": {
    "name": "ipython",
    "version": 3
   },
   "file_extension": ".py",
   "mimetype": "text/x-python",
   "name": "python",
   "nbconvert_exporter": "python",
   "pygments_lexer": "ipython3",
   "version": "3.10.4"
  }
 },
 "nbformat": 4,
 "nbformat_minor": 5
}
