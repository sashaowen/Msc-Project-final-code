{
 "cells": [
  {
   "cell_type": "code",
   "execution_count": 1,
   "id": "43474bb9-17be-4e76-9be2-862f94cda9ed",
   "metadata": {},
   "outputs": [],
   "source": [
    "# reduce the data produced on a 256x256 grid to smaller resolutions \n",
    "# to use as a \"ground truth\" when training and testing"
   ]
  },
  {
   "cell_type": "code",
   "execution_count": 2,
   "id": "5c08fc8f-d3e4-452f-a6b9-e7eb8d00bf3a",
   "metadata": {},
   "outputs": [
    {
     "name": "stdout",
     "output_type": "stream",
     "text": [
      "Requirement already satisfied: torch in /opt/conda/lib/python3.10/site-packages (1.12.0)\n",
      "Requirement already satisfied: typing-extensions in /opt/conda/lib/python3.10/site-packages (from torch) (4.2.0)\n",
      "Note: you may need to restart the kernel to use updated packages.\n"
     ]
    }
   ],
   "source": [
    "pip install torch"
   ]
  },
  {
   "cell_type": "code",
   "execution_count": 1,
   "id": "1f17bdbd-4412-4ce9-a4c3-d3ad79e2ac72",
   "metadata": {},
   "outputs": [],
   "source": [
    "from utilities3 import *\n",
    "from skimage.measure import block_reduce\n",
    "import numpy as np"
   ]
  },
  {
   "cell_type": "code",
   "execution_count": 2,
   "id": "50cf0b98-25d8-4773-b8eb-d63ac2ffc09f",
   "metadata": {},
   "outputs": [],
   "source": [
    "##### TRAINING DATA MAT FILES #####\n",
    "train_data0 = scipy.io.loadmat('df_train_256_0.mat') \n",
    "train_data1 = scipy.io.loadmat('df_train_256_1.mat') \n",
    "train_data2 = scipy.io.loadmat('df_train_256_2.mat') \n",
    "train_data3 = scipy.io.loadmat('df_train_256_3.mat') \n",
    "train_data4 = scipy.io.loadmat('df_train_256_4.mat') "
   ]
  },
  {
   "cell_type": "code",
   "execution_count": 3,
   "id": "e2e5542e-19f4-4d7e-8ed7-5f0e12739a18",
   "metadata": {},
   "outputs": [],
   "source": [
    "# reduce each batch of training pairs\n",
    "x_train0_128 = block_reduce(train_data0['coeff'], block_size=(1, 2, 2), func=np.mean)\n",
    "y_train0_128 = block_reduce(train_data0['sol'], block_size=(1, 2, 2), func=np.mean)"
   ]
  },
  {
   "cell_type": "code",
   "execution_count": 4,
   "id": "24115778-18b8-4a53-a44c-d27aa2743425",
   "metadata": {},
   "outputs": [],
   "source": [
    "x_train1_128 = block_reduce(train_data1['coeff'], block_size=(1, 2, 2), func=np.mean)\n",
    "y_train1_128 = block_reduce(train_data1['sol'], block_size=(1, 2, 2), func=np.mean)"
   ]
  },
  {
   "cell_type": "code",
   "execution_count": 5,
   "id": "b3c2c778-6325-415a-8cf5-d3e37245afaa",
   "metadata": {},
   "outputs": [],
   "source": [
    "x_train2_128 = block_reduce(train_data2['coeff'], block_size=(1, 2, 2), func=np.mean)\n",
    "y_train2_128 = block_reduce(train_data2['sol'], block_size=(1, 2, 2), func=np.mean)"
   ]
  },
  {
   "cell_type": "code",
   "execution_count": 6,
   "id": "29fbf724-2864-4b32-b510-572ca0fb679b",
   "metadata": {},
   "outputs": [],
   "source": [
    "x_train3_128 = block_reduce(train_data3['coeff'], block_size=(1, 2, 2), func=np.mean)\n",
    "y_train3_128 = block_reduce(train_data3['sol'], block_size=(1, 2, 2), func=np.mean)"
   ]
  },
  {
   "cell_type": "code",
   "execution_count": 7,
   "id": "53d64181-de72-4653-9e38-c58c92c4298f",
   "metadata": {},
   "outputs": [],
   "source": [
    "x_train4_128 = block_reduce(train_data4['coeff'], block_size=(1, 2, 2), func=np.mean)\n",
    "y_train4_128 = block_reduce(train_data4['sol'], block_size=(1, 2, 2), func=np.mean)"
   ]
  },
  {
   "cell_type": "code",
   "execution_count": 8,
   "id": "87a38658-4b31-4bc0-ad63-7bdd5d2b549e",
   "metadata": {},
   "outputs": [
    {
     "name": "stdout",
     "output_type": "stream",
     "text": [
      "(1000, 128, 128)\n"
     ]
    }
   ],
   "source": [
    "# concatenate the reduced training pairs to form the training dataset of 1000 pairs\n",
    "x_train_128 = np.concatenate( (x_train0_128, x_train1_128, x_train2_128, x_train3_128, x_train4_128 ) )\n",
    "y_train_128 = np.concatenate( (y_train0_128, y_train1_128, y_train2_128, y_train3_128, y_train4_128 ) )\n",
    "print(x_train_128.shape)"
   ]
  },
  {
   "cell_type": "code",
   "execution_count": 9,
   "id": "85f266c0-7fe4-4640-8731-1bc703d019f0",
   "metadata": {},
   "outputs": [],
   "source": [
    "# save training mat file\n",
    "scipy.io.savemat('df_train_128.mat', mdict={'coeff': x_train_128, 'sol': y_train_128})"
   ]
  },
  {
   "cell_type": "code",
   "execution_count": 10,
   "id": "342aeb29-974d-4693-aa17-867589201aa7",
   "metadata": {},
   "outputs": [],
   "source": [
    "test_data = scipy.io.loadmat('df_test_256.mat') "
   ]
  },
  {
   "cell_type": "code",
   "execution_count": 11,
   "id": "e420a9a5-6135-45f6-864a-5f966451b2fe",
   "metadata": {},
   "outputs": [],
   "source": [
    "#create 128 resolution ground truth to test on\n",
    "x_test_128 = block_reduce(test_data['coeff'], block_size=(1, 2, 2), func=np.mean)\n",
    "y_test_128 = block_reduce(test_data['sol'], block_size=(1, 2, 2), func=np.mean)\n",
    "# save mat file\n",
    "scipy.io.savemat('df_test_128.mat', mdict={'coeff': x_test_128, 'sol': y_test_128})"
   ]
  },
  {
   "cell_type": "code",
   "execution_count": 12,
   "id": "dda68748-73c7-485e-b868-d4c2a64ac58b",
   "metadata": {},
   "outputs": [],
   "source": [
    "#create 64 resolution ground truth to test on\n",
    "x_test_64 = block_reduce(test_data['coeff'], block_size=(1, 4, 4), func=np.mean)\n",
    "y_test_64 = block_reduce(test_data['sol'], block_size=(1, 4, 4), func=np.mean)\n",
    "# save mat file\n",
    "scipy.io.savemat('df_test_64.mat', mdict={'coeff': x_test_64, 'sol': y_test_64})"
   ]
  },
  {
   "cell_type": "code",
   "execution_count": null,
   "id": "4e8bc784-7034-4f5c-8140-526ce51a90e0",
   "metadata": {},
   "outputs": [],
   "source": []
  }
 ],
 "metadata": {
  "kernelspec": {
   "display_name": "Python 3 (ipykernel)",
   "language": "python",
   "name": "python3"
  },
  "language_info": {
   "codemirror_mode": {
    "name": "ipython",
    "version": 3
   },
   "file_extension": ".py",
   "mimetype": "text/x-python",
   "name": "python",
   "nbconvert_exporter": "python",
   "pygments_lexer": "ipython3",
   "version": "3.10.4"
  }
 },
 "nbformat": 4,
 "nbformat_minor": 5
}
